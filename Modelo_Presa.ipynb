{
  "nbformat": 4,
  "nbformat_minor": 0,
  "metadata": {
    "colab": {
      "name": "Modelo_Presa.ipynb",
      "provenance": [],
      "collapsed_sections": []
    },
    "kernelspec": {
      "display_name": "Python 3",
      "language": "python",
      "name": "python3"
    }
  },
  "cells": [
    {
      "cell_type": "code",
      "metadata": {
        "id": "1AThG-r4VEKw"
      },
      "source": [
        "import math\n",
        "import random\n",
        "import matplotlib.pyplot as plt"
      ],
      "execution_count": null,
      "outputs": []
    },
    {
      "cell_type": "code",
      "metadata": {
        "id": "H-K0wU-0VELN",
        "colab": {
          "base_uri": "https://localhost:8080/",
          "height": 446
        },
        "outputId": "f84b11ca-2d87-4558-99fd-137c2aee8725"
      },
      "source": [
        "#Discretización de la presa. División entre niveles de consumo. Función de embalse (Lluvia y Caudal)\n",
        "\n",
        "\n",
        "NAME = 1822550000 #máximo metros cúbicos\n",
        "NAMO = 950300000\n",
        "NAMINO = 114500000 #Minimo de operacion en metros cubicos\n",
        "Rio_max = 195500000 #máximo metros cúbicos al mes\n",
        "Rio_min = 81250000 #mínimo metros cúbicos al mes\n",
        "Ct_Desborde = 5000000 #Costos inventados\n",
        "Ct_Sequia = 10000000\n",
        "Ct_Compuerta = 20000\n",
        "Nv_Lluvia = [35.0, 17.9, 17.8, 1.9, 3.9, 25.5, 184.4, 198.2, 86.3, 53.1, 26.3, 37.0]\n",
        "Nv_Lluvia1 = [0, 0, 0, 0, 0, 0, 0, 184.4, 198.2, 86.3, 53.1, 26.3, 37.0]\n",
        "Lluvia_anual = 687.3\n",
        "Consumo_max = 260496000\n",
        "Cuenca = 10762000000 #Superficie que recibe escurrimiento en metros cuadrados\n",
        "\n",
        "def Embalse(): #Utilizamos la función presentada en la anterior tarea \n",
        "  #El embalse en un tiempo t, será igual al embalse del estado anterior más el agregado por cauce y lluvia, menos el consumo y lo vertido en precaucion de desborde\n",
        "    Et = [182255000]\n",
        "    Yiv = [0]\n",
        "    Riv = [0]\n",
        "    Cns = [0]\n",
        "    Vrt = [0]\n",
        "    \n",
        "    Nv_Lluvia = [0, 35.0, 17.9, 17.8, 1.9, 3.9, 25.5, 184.4, 198.2, 86.3, 53.1, 26.3, 37.0]\n",
        "    for i in range(1,13):\n",
        "      n = random.uniform(10760000, 10762000)\n",
        "      rivi = random.uniform(Rio_min, Rio_max)\n",
        "      Con = random.uniform(60, 70) + 30.500\n",
        "      Consumo = ((((Con*60)*60)*24)*30)\n",
        "      \n",
        "      Yiv.append(Nv_Lluvia[i]*n)\n",
        "      Riv.append(rivi)\n",
        "      Cns.append(Consumo)\n",
        "      Vrt.append(Nv_Lluvia1[i]*10000000)\n",
        "      Et.append(Et[i-1]+Yiv[i-1]+Riv[i-1]-Cns[i-1]-Vrt[i-1])        \n",
        "    return Et\n",
        "EMB = Embalse()\n",
        "print(\"El arreglo de los embalses mensuales de un año: \", EMB)\n",
        "\n",
        "def Consumo_t(): #Array de consumos de aproximaciones a los datos reales(metros cúbicos utilizados para riego y generación eléctrica)\n",
        "    Cns = []\n",
        "    for i in range(11):\n",
        "        Con = random.uniform(60, 70) + 30.500\n",
        "        Consumo = ((((Con*60)*60)*24)*30)\n",
        "        Cns.append(Consumo)\n",
        "    return Cns\n",
        "\n",
        "def Niveles(): #Un array que indique la capacidad hasta el nivel i de la presa. Siendo el nivel máximo 7, muy cercano al NAME\n",
        "    Niv = []\n",
        "    for i in range(8):\n",
        "        nivi = (260364285.714*i)\n",
        "        Niv.append(nivi)\n",
        "    return Niv\n",
        "   \n",
        "\n",
        "def Rio(): #Un array que indica un caudal aproximado que llega a la presa cada mes\n",
        "    Riv = []\n",
        "    for i in range(11):\n",
        "        rivi = random.uniform(Rio_min, Rio_max)\n",
        "        Riv.append(rivi)\n",
        "    return Riv\n",
        "\n",
        "  \n",
        "def Lluvia(): #Arreglo de volumen aproximado de Lluvia en i mes, utilizando aproximaciones aleatorias a la cuenca de la presa y promedios de volumen de litros por metro cuadrado.\n",
        "    Yiv = []\n",
        "    Nv_Lluvia = [35.0, 17.9, 17.8, 1.9, 3.9, 25.5, 184.4, 198.2, 86.3, 53.1, 26.3, 37.0]\n",
        "    for i in range(11):\n",
        "      n = random.uniform(10760000000, 10762000000)\n",
        "      Yiv.append(Nv_Lluvia[i]*n)\n",
        "    return Yiv   \n",
        "    \n",
        "\n",
        "#Volumen de ocupación promedio\n",
        "def Promedio():\n",
        "  tot = 0\n",
        "  for i in range(len(EMB)):\n",
        "    tot = tot + EMB[i]\n",
        "    \n",
        "  p = tot/len(EMB)\n",
        "  return p\n",
        "\n",
        "print(\"El volumen de ocupación promedio es de :\", Promedio())\n",
        "\n",
        "#Costo \n",
        "\n",
        "def Costo():\n",
        "  ct = 0\n",
        "  for i in range(len(Nv_Lluvia1)):\n",
        "    ct = ct + (Nv_Lluvia1[i]*Ct_Compuerta)\n",
        "    \n",
        "  return ct\n",
        "\n",
        "print(\"El costo total es de :\", Costo())\n",
        "print(\"La Trayectoria está representada en la siguiente gráfica:\")\n",
        "  \n",
        "\n",
        "\n",
        "\n",
        "\n",
        "\n",
        "plt.plot(range(13), EMB)\n",
        "plt.plot(range(13), [0, 0, 0, 0, 0, 0, 0, 0, 0, 0, 0, 0, 0])\n",
        "plt.plot(range(13), [NAMINO, NAMINO, NAMINO, NAMINO, NAMINO, NAMINO, NAMINO, NAMINO, NAMINO, NAMINO, NAMINO, NAMINO, NAMINO])\n",
        "plt.plot(range(13), [NAME, NAME, NAME, NAME, NAME, NAME, NAME, NAME, NAME, NAME, NAME, NAME, NAME])\n",
        "plt.show()\n",
        "\n"
      ],
      "execution_count": null,
      "outputs": [
        {
          "output_type": "stream",
          "text": [
            "El arreglo de los embalses mensuales de un año:  [182255000, 182255000, 442809256.57608235, 484942160.65888715, 562105152.3388598, 427259824.5221652, 397745757.00438535, 525349577.68564755, 577776820.5084887, 591407287.2664118, 566337131.4287343, 453325617.6675352, 403303091.3232409]\n",
            "El volumen de ocupación promedio es de : 445913205.92157215\n",
            "El costo total es de : 11706000.0\n",
            "La Trayectoria está representada en la siguiente gráfica:\n"
          ],
          "name": "stdout"
        },
        {
          "output_type": "display_data",
          "data": {
            "image/png": "[encoded data removed]",
            "text/plain": [
              "<matplotlib.figure.Figure at 0x7f8453961b38>"
            ]
          },
          "metadata": {
            "tags": []
          }
        }
      ]
    },
    {
      "cell_type": "code",
      "metadata": {
        "id": "DHPrHyOSAFi9"
      },
      "source": [
        "\n"
      ],
      "execution_count": null,
      "outputs": []
    }
  ]
}