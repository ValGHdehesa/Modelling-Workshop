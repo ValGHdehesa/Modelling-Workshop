{
  "nbformat": 4,
  "nbformat_minor": 0,
  "metadata": {
    "colab": {
      "name": "Tarea8_(1)_(1).ipynb",
      "provenance": []
    },
    "kernelspec": {
      "display_name": "Python 3",
      "language": "python",
      "name": "python3"
    }
  },
  "cells": [
    {
      "cell_type": "code",
      "metadata": {
        "id": "HMO4141iG4EK"
      },
      "source": [
        "from random import randint"
      ],
      "execution_count": null,
      "outputs": []
    },
    {
      "cell_type": "code",
      "metadata": {
        "id": "fQ_4NY8QG4EZ",
        "outputId": "99305983-46c2-4a52-821a-e6ac380a08a6"
      },
      "source": [
        "# Recibe un numero n que denota el total de barcos\n",
        "def funcion(n):\n",
        "    \n",
        "    #Generamos de manera aleatoria tentre (Tiempo de arrivo entre dos barcos consecutivos) y descarga\n",
        "    tentre_1 = randint(15, 145)\n",
        "    descarga_1 = randint(45,90)\n",
        "    # Y asignamos llegada = tentre\n",
        "    llegada_1 = tentre_1\n",
        "    \n",
        "    # Inicializamos los valores del output.\n",
        "    tiempoenpuerto = descarga_1\n",
        "    tiempomaximo = descarga_1\n",
        "    tiempoantes = 0\n",
        "    maximaespera = 0\n",
        "    tiempodesocupado = llegada_1\n",
        "    \n",
        "    # Calculamos tiempo fin para barco1\n",
        "    fin_1 = llegada_1 + descarga_1\n",
        "    \n",
        "    for i in range(2,n):\n",
        "        \n",
        "        # Vamos empezando las iteraciones\n",
        "        if i == 2:\n",
        "            llegada_i_1 = llegada_1\n",
        "            fin_i_1 = fin_1\n",
        "            descarga_i = descarga_1\n",
        "        else:\n",
        "            # Venimos de una iteración pasada, entonces ya avanzó el tiempo\n",
        "            llegada_i_1 = llegada_i\n",
        "            fin_i_1 = fin_i\n",
        "        \n",
        "        #Generamos aleatoriamente los valores para tentre_i y descarga_i\n",
        "        tentre_i = randint(15, 145)\n",
        "        descarga_i = randint(45,90)\n",
        "        \n",
        "        #Asumiendo que empezamos con t = 0, calculamos el tiempo de llegada para barco_i\n",
        "        llegada_i = llegada_i_1 + tentre_i\n",
        "        \n",
        "        #Calculamos diferencia entre barco_i y ...\n",
        "        tiempodif = llegada_i - fin_i_1\n",
        "        \n",
        "        #Para tiempodif no negativo ...\n",
        "        if tiempodif >= 0:\n",
        "            desocupado_i = tiempodif\n",
        "            espera_i = 0\n",
        "        else:\n",
        "            espera_i = -tiempodif\n",
        "            desocupado_i = 0\n",
        "            \n",
        "        # Calculamos tiempo inicial para descargando barco_i\n",
        "        inicial_i = llegada_i + espera_i\n",
        "        \n",
        "        #Calculamos tiempo fin para descargando barco_i\n",
        "        fin_i = inicial_i + descarga_i\n",
        "        \n",
        "        #Calculamos el tiempo en puerto para barco_i\n",
        "        puerto_i = espera_i + descarga_i\n",
        "        \n",
        "        #Sumamos puerto_i a tiempoenpuerto\n",
        "        tiempoenpuerto += puerto_i\n",
        "        \n",
        "        \n",
        "        if puerto_i > tiempomaximo:\n",
        "            tiempomaximo = puerto_i\n",
        "\n",
        "        #Sumamos espera_1 a tiempoantes\n",
        "        tiempoantes = espera_i\n",
        "        \n",
        "        # sumamos desocupado_i a tiempodesocupado\n",
        "        tiempodesocupado += desocupado_i\n",
        "        \n",
        "        if espera_i > maximaespera:\n",
        "            maximaespera = espera_i\n",
        "    \n",
        "    #Dividimos tiempoenpuerto, tiempoantes entre n y tiempodesocupado entre fin_n\n",
        "    # Cuando termine el for, fin_i tendrá el valor que debe tener fin_n\n",
        "    tiempoenpuerto /= n\n",
        "    tiempoantes /= n\n",
        "    tiempodesocupado /= fin_i\n",
        "    \n",
        "    return (tiempoenpuerto, tiempomaximo, tiempoantes, maximaespera, 1-tiempodesocupado)\n",
        "    \n",
        "funcion(1000)"
      ],
      "execution_count": null,
      "outputs": [
        {
          "output_type": "execute_result",
          "data": {
            "text/plain": [
              "(110.445, 369, 0.0, 320, 0.8494587970999694)"
            ]
          },
          "metadata": {
            "tags": []
          },
          "execution_count": 11
        }
      ]
    },
    {
      "cell_type": "code",
      "metadata": {
        "id": "PXlswp-cG4Ey"
      },
      "source": [
        ""
      ],
      "execution_count": null,
      "outputs": []
    }
  ]
}