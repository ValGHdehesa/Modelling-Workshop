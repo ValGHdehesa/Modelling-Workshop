{
  "nbformat": 4,
  "nbformat_minor": 0,
  "metadata": {
    "colab": {
      "name": "Trafalgar.ipynb",
      "provenance": []
    },
    "kernelspec": {
      "display_name": "Python 3",
      "language": "python",
      "name": "python3"
    }
  },
  "cells": [
    {
      "cell_type": "code",
      "metadata": {
        "id": "knsHictByZfG"
      },
      "source": [
        "import numpy as np\n",
        "import matplotlib.pyplot as plt"
      ],
      "execution_count": null,
      "outputs": []
    },
    {
      "cell_type": "code",
      "metadata": {
        "id": "owwAHIV_yZfP"
      },
      "source": [
        "#(a) Construimos una solución numérica para determinar quién gana la batalla\n",
        "\n",
        "Bn = [] #Número de naves británicas en el estado n\n",
        "Fn = [] #Número de naves francesas-españolas en el estado n\n",
        "\n",
        "#Bn+1 = Bn - 0.1Fn\n",
        "#Fn+1 = Fn - 0.15Bn"
      ],
      "execution_count": null,
      "outputs": []
    },
    {
      "cell_type": "code",
      "metadata": {
        "id": "KOQ8mf3dyZfW"
      },
      "source": [
        "def a (n, a0, b0):\n",
        "    Bn = [a0]\n",
        "    Fn = [b0]\n",
        "    for i in range (1, n):\n",
        "        Bn.append((Bn[i-1]) - 0.1*(Fn[i-1]))\n",
        "        Fn.append((Fn[i-1]) - 0.15*(Bn[i-1]))\n",
        "    return Bn"
      ],
      "execution_count": null,
      "outputs": []
    },
    {
      "cell_type": "code",
      "metadata": {
        "id": "B0bbfRzFyZfc"
      },
      "source": [
        "def b (n, a0, b0):\n",
        "    Bn = [a0]\n",
        "    Fn = [b0]\n",
        "    for i in range (1, n):\n",
        "        Bn.append((Bn[i-1]) - 0.1*(Fn[i-1]))\n",
        "        Fn.append((Fn[i-1]) - 0.15*(Bn[i-1]))\n",
        "    return Fn"
      ],
      "execution_count": null,
      "outputs": []
    },
    {
      "cell_type": "code",
      "metadata": {
        "id": "nDuJ-bvcyZfi",
        "outputId": "71859ce3-f692-40cc-a7db-1ed055a29e63"
      },
      "source": [
        "print(a(30,27,33)) #Pedimos los arreglos para tener el estado en el que pierde o gana un lado.\n",
        "print(b(30,27,33)) #Nos daremos cuenta cuando en el arreglo haya un valor menor o igual a 0."
      ],
      "execution_count": null,
      "outputs": [
        {
          "output_type": "stream",
          "text": [
            "[27, 23.7, 20.805, 18.2655, 16.038075, 14.0846325, 12.371761124999999, 10.8701592375, 9.554133766875, 8.4011606848125, 7.391499609253124, 6.507855943965936, 5.735084772817545, 5.059931440828643, 4.470804380432004, 3.9575762916477952, 3.5114102685700663, 3.1246078898670544, 2.7904766651925934, 2.503214558866138, 2.257809602517572, 2.0499528645519978, 1.875963270624187, 1.7327229696646564, 1.6176221177644887, 1.528512110409291, 1.4636664348205604, 1.4217484408879693, 1.4017854434776864, 1.4031486726807232]\n",
            "[33, 28.95, 25.395, 22.27425, 19.534425, 17.12871375, 15.016018875, 13.16025470625, 11.529730820625002, 10.096610755593751, 8.836436652871877, 7.727711711483908, 6.751533319889017, 5.891270603966385, 5.1322808878420885, 4.461660230777288, 3.868023787030119, 3.341312246744609, 2.872621063264551, 2.454049563485662, 2.078567379655741, 1.7398959392781053, 1.4324030095953055, 1.1510085190016774, 0.891100073551979, 0.6484567558873057, 0.419179939325912, 0.19962997410282798, -0.013632292030367393, -0.22390010855202036]\n"
          ],
          "name": "stdout"
        }
      ]
    },
    {
      "cell_type": "code",
      "metadata": {
        "id": "r-fHQ0cNyZfu",
        "outputId": "db32bfd6-e23a-43ec-c935-961e1d88fd2b"
      },
      "source": [
        "n = 30\n",
        "plt.plot(range(n),a(30,27,33))\n",
        "plt.plot(range(n),b(30,27,33))\n",
        "plt.show()"
      ],
      "execution_count": null,
      "outputs": [
        {
          "output_type": "display_data",
          "data": {
            "image/png": "[encoded data removed]",
            "text/plain": [
              "<matplotlib.figure.Figure at 0x7f7d3a9577b8>"
            ]
          },
          "metadata": {
            "tags": []
          }
        }
      ]
    },
    {
      "cell_type": "code",
      "metadata": {
        "id": "DRpdo72zyZf2"
      },
      "source": [
        "#Al cruzar Fn el eje x, la alianza franco-española pierde."
      ],
      "execution_count": null,
      "outputs": []
    }
  ]
}